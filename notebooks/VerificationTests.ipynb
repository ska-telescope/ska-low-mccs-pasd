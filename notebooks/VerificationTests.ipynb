{
 "cells": [
  {
   "cell_type": "code",
   "execution_count": null,
   "id": "7674e2ea-88eb-4115-8c5c-1ffcce5c8ff6",
   "metadata": {},
   "outputs": [],
   "source": [
    "# Verification script to check basic PaSD functionality using the low-ITF hardware or simulation"
   ]
  },
  {
   "cell_type": "code",
   "execution_count": null,
   "id": "d78bde34-999b-4841-951e-a4e3365963fb",
   "metadata": {},
   "outputs": [],
   "source": [
    "import json\n",
    "import time\n",
    "import numpy\n",
    "import random"
   ]
  },
  {
   "cell_type": "code",
   "execution_count": null,
   "id": "0bddbb7b-570c-4cfe-a3d2-b943fc022e7a",
   "metadata": {},
   "outputs": [],
   "source": [
    "# Run this to connect to a simulation in minikube:\n",
    "# ------------------------------------------------\n",
    "pasd=tango.DeviceProxy(\"low-mccs/pasdbus/ci-1\")\n",
    "fndh=tango.DeviceProxy(\"low-mccs/fndh/ci-1\")\n",
    "fncc=tango.DeviceProxy(\"low-mccs/fncc/ci-1\")\n",
    "sb1=tango.DeviceProxy(\"low-mccs/smartbox/ci-1-sb01\")\n",
    "sb2=tango.DeviceProxy(\"low-mccs/smartbox/ci-1-sb02\")"
   ]
  },
  {
   "cell_type": "code",
   "execution_count": null,
   "id": "9d5acc15-6019-4972-8723-f0977a656ee4",
   "metadata": {},
   "outputs": [],
   "source": [
    "# Run this to connect to the low-ITF hardware:\n",
    "# --------------------------------------------\n",
    "pasd=tango.DeviceProxy(\"low-mccs/pasdbus/s8-1\")\n",
    "fndh=tango.DeviceProxy(\"low-mccs/fndh/s8-1\")\n",
    "fncc=tango.DeviceProxy(\"low-mccs/fncc/s8-1\")\n",
    "sb1=tango.DeviceProxy(\"low-mccs/smartbox/s8-1-sb01\")\n",
    "sb2=tango.DeviceProxy(\"low-mccs/smartbox/s8-1-sb02\")"
   ]
  },
  {
   "cell_type": "code",
   "execution_count": null,
   "id": "fada5065-c0da-4ca2-82c6-b37c5239d3fd",
   "metadata": {},
   "outputs": [],
   "source": [
    "# Setup: start communicating with the FNDH\n",
    "pasd.adminMode=0\n",
    "time.sleep(5)\n",
    "pasd.initializeFndh()\n",
    "fndh.adminMode=0\n",
    "time.sleep(10)"
   ]
  },
  {
   "cell_type": "code",
   "execution_count": null,
   "id": "7fd2d2cb-00af-48a3-be05-ff2adf8f083c",
   "metadata": {},
   "outputs": [],
   "source": [
    "# FNDH attributes should now be populated\n",
    "assert fndh.state() == tango._tango.DevState.ON\n",
    "print(f\"Uptime: {fndh.uptime}\")\n",
    "print(f\"ModbusRegisterMapRevisionNumber: {fndh.ModbusRegisterMapRevisionNumber}\")\n",
    "print(f\"PcbRevisionNumber: {fndh.PcbRevisionNumber}\")\n",
    "print(f\"CpuId: {fndh.CpuId}\")\n",
    "print(f\"ChipId: {fndh.ChipId}\")\n",
    "print(f\"FirmwareVersion: {fndh.FirmwareVersion}\")\n",
    "print(f\"SysAddress: {fndh.SysAddress}\")\n",
    "print(f\"Psu48vVoltage1: {fndh.Psu48vVoltage1}\")\n",
    "print(f\"Psu48vVoltage2: {fndh.Psu48vVoltage2}\")\n",
    "print(f\"Psu48vCurrent: {fndh.Psu48vCurrent}\")\n",
    "print(f\"Psu48vTemperature1: {fndh.Psu48vTemperature1}\")\n",
    "print(f\"Psu48vTemperature2: {fndh.Psu48vTemperature2}\")\n",
    "print(f\"PanelTemperature: {fndh.PanelTemperature}\")\n",
    "print(f\"FncbTemperature: {fndh.FncbTemperature}\")\n",
    "print(f\"FncbHumidity: {fndh.FncbHumidity}\")\n",
    "print(f\"PasdStatus: {fndh.PasdStatus}\")\n",
    "print(f\"LedPattern: {fndh.LedPattern}\")\n",
    "print(f\"CommsGatewayTemperature: {fndh.CommsGatewayTemperature}\")\n",
    "print(f\"PowerModuleTemperature: {fndh.PowerModuleTemperature}\")\n",
    "print(f\"OutsideTemperature: {fndh.OutsideTemperature}\")\n",
    "print(f\"InternalAmbientTemperature: {fndh.InternalAmbientTemperature}\")\n",
    "print(f\"PortsPowerSensed: {fndh.PortsPowerSensed}\")\n",
    "print(f\"WarningFlags: {fndh.WarningFlags}\")\n",
    "print(f\"AlarmFlags: {fndh.AlarmFlags}\")\n",
    "print(f\"Psu48vVoltage1Thresholds: {fndh.Psu48vVoltage1Thresholds}\")\n",
    "print(f\"Psu48vVoltage2Thresholds: {fndh.Psu48vVoltage2Thresholds}\")\n",
    "print(f\"Psu48vCurrentThresholds: {fndh.Psu48vCurrentThresholds}\")\n",
    "print(f\"Psu48vTemperature1Thresholds: {fndh.Psu48vTemperature1Thresholds}\")\n",
    "print(f\"Psu48vTemperature2Thresholds: {fndh.Psu48vTemperature2Thresholds}\")\n",
    "print(f\"PanelTemperatureThresholds: {fndh.PanelTemperatureThresholds}\")\n",
    "print(f\"FncbTemperatureThresholds: {fndh.FncbTemperatureThresholds}\")\n",
    "print(f\"FncbHumidityThresholds: {fndh.FncbHumidityThresholds}\")\n",
    "print(f\"CommsGatewayTemperatureThresholds: {fndh.CommsGatewayTemperatureThresholds}\")\n",
    "print(f\"PowerModuleTemperatureThresholds: {fndh.PowerModuleTemperatureThresholds}\")\n",
    "print(f\"OutsideTemperatureThresholds: {fndh.OutsideTemperatureThresholds}\")\n",
    "print(f\"InternalAmbientTemperatureThresholds: {fndh.InternalAmbientTemperatureThresholds}\")"
   ]
  },
  {
   "cell_type": "code",
   "execution_count": null,
   "id": "2c958d1d-2c88-4888-b61d-21a3bb7debf9",
   "metadata": {},
   "outputs": [],
   "source": [
    "# Save initial state so that we can restore after the tests\n",
    "fndh_initial_state = fndh.portsPowerSensed\n",
    "print (f\"Initial FNDH port state: {fndh_initial_state}\")"
   ]
  },
  {
   "cell_type": "code",
   "execution_count": null,
   "id": "93a5dd7d-f080-4372-8c6b-abf4bc5a6148",
   "metadata": {},
   "outputs": [],
   "source": [
    "# First ensure all smartboxes are turned off so that we can test turning them on\n",
    "port_powers_off = json.dumps({\"port_powers\": \n",
    "    [False, False, False, False, False, False, False, False, False, False, False, False, False, False,\n",
    "     False, False, False, False, False, False, False, False, False, False, False, False, False, False], \"stay_on_when_offline\": False}) \n",
    "pasd.setFndhPortPowers(port_powers_off)\n",
    "time.sleep(5)\n",
    "assert (fndh.portsPowerSensed == numpy.array([False, False, False, False, False, False, False, False, False,\n",
    "       False, False, False, False, False, False, False, False, False,\n",
    "       False, False, False, False, False, False, False, False, False,\n",
    "       False])).all()"
   ]
  },
  {
   "cell_type": "code",
   "execution_count": null,
   "id": "ce45f52c-a94b-4bce-8ed3-3224ba53b0a5",
   "metadata": {},
   "outputs": [],
   "source": [
    "# Turn on smartboxes 1 and 2\n",
    "port_powers_on = json.dumps({\"port_powers\": \n",
    "    [True, True, False, True, False, True, False, False, False, False, False, False, False, False,\n",
    "     False, False, False, False, False, False, False, False, False, False, False, False, False, False], \"stay_on_when_offline\": False}) \n",
    "pasd.setFndhPortPowers(port_powers_on)\n",
    "time.sleep(15)\n",
    "assert (fndh.portsPowerSensed == numpy.array([True, True, False, True, False, True, False, False, False,\n",
    "       False, False, False, False, False, False, False, False, False,\n",
    "       False, False, False, False, False, False, False, False, False,\n",
    "       False])).all()"
   ]
  },
  {
   "cell_type": "code",
   "execution_count": null,
   "id": "ad2ca82f-5c8e-4ab6-8927-2f15ab0da006",
   "metadata": {},
   "outputs": [],
   "source": [
    "# Start communicating with the smartboxes\n",
    "sb1.adminMode=0\n",
    "sb2.adminMode=0\n",
    "pasd.initializeSmartbox(1)\n",
    "pasd.initializeSmartbox(2)\n",
    "sbs = {1: sb1, 2: sb2}\n",
    "time.sleep(10)\n",
    "for i in range(1,3):\n",
    "    print(f\"Smartbox {i} Uptime: {sbs[i].uptime}\")\n",
    "    print(f\"Smartbox {i} ModbusRegisterMapRevisionNumber: {sbs[i].ModbusRegisterMapRevisionNumber}\")\n",
    "    print(f\"Smartbox {i} PcbRevisionNumber: {sbs[i].PcbRevisionNumber}\")\n",
    "    print(f\"Smartbox {i} CpuId: {sbs[i].CpuId}\")\n",
    "    print(f\"Smartbox {i} ChipId: {sbs[i].ChipId}\")\n",
    "    print(f\"Smartbox {i} FirmwareVersion: {sbs[i].FirmwareVersion}\")\n",
    "    print(f\"Smartbox {i} SysAddress: {sbs[i].SysAddress}\")\n",
    "    print(f\"Smartbox {i} InputVoltage: {sbs[i].InputVoltage}\")\n",
    "    print(f\"Smartbox {i} PowerSupplyOutputVoltage: {sbs[i].PowerSupplyOutputVoltage}\")\n",
    "    print(f\"Smartbox {i} PcbTemperature: {sbs[i].PcbTemperature}\")\n",
    "    print(f\"Smartbox {i} FemAmbientTemperature: {sbs[i].FemAmbientTemperature}\")\n",
    "    print(f\"Smartbox {i} PasdStatus: {sbs[i].PasdStatus}\")\n",
    "    print(f\"Smartbox {i} LedPattern: {sbs[i].LedPattern}\")\n",
    "    print(f\"Smartbox {i} FemCaseTemperature1: {sbs[i].FemCaseTemperature1}\")\n",
    "    print(f\"Smartbox {i} FemCaseTemperature2: {sbs[i].FemCaseTemperature2}\")\n",
    "    print(f\"Smartbox {i} FemHeatsinkTemperature1: {sbs[i].FemHeatsinkTemperature1}\")\n",
    "    print(f\"Smartbox {i} FemHeatsinkTemperature2: {sbs[i].FemHeatsinkTemperature2}\")\n",
    "    print(f\"Smartbox {i} PowerSupplyTemperature: {sbs[i].PowerSupplyTemperature}\")\n",
    "    print(f\"Smartbox {i} PortBreakersTripped: {sbs[i].PortBreakersTripped}\")\n",
    "    print(f\"Smartbox {i} PortsPowerSensed: {sbs[i].PortsPowerSensed}\")\n",
    "    print(f\"Smartbox {i} WarningFlags: {sbs[i].WarningFlags}\")\n",
    "    print(f\"Smartbox {i} AlarmFlags: {sbs[i].AlarmFlags}\")\n",
    "    print(f\"Smartbox {i} FemCurrentTripThresholds: {sbs[i].FemCurrentTripThresholds}\")"
   ]
  },
  {
   "cell_type": "code",
   "execution_count": null,
   "id": "df866b00-d026-45b1-bab0-ee6298eb9fe2",
   "metadata": {},
   "outputs": [],
   "source": [
    "# Save initial state and then ensure all FEMs are all turned off to start with\n",
    "sb1_initial_state = sb1.portsPowerSensed\n",
    "print(f\"Smartbox 1 initial port state: {sb1_initial_state}\")\n",
    "sb1_port_powers_off = json.dumps(\n",
    "   {\"smartbox_number\": 1, \"port_powers\": [False, False, False, False, False, False, False, False, False, False, False, False, ], \"stay_on_when_offline\": True})\n",
    "pasd.setSmartboxPortPowers(sb1_port_powers_off)\n",
    "time.sleep(5)\n",
    "assert (sb1.portsPowerSensed == numpy.array([False, False, False, False, False, False, False, False, False,\n",
    "       False, False, False])).all()"
   ]
  },
  {
   "cell_type": "code",
   "execution_count": null,
   "id": "0f07b24d-f3c6-465c-92fa-e8f9fe080856",
   "metadata": {},
   "outputs": [],
   "source": [
    "# Turn on ports 1 and 2\n",
    "sb1_port_powers_on = json.dumps(\n",
    "   {\"smartbox_number\": 1, \"port_powers\": [True, True, False, True, False, False, False, False, False, False, False, False, ], \"stay_on_when_offline\": True})\n",
    "pasd.setSmartboxPortPowers(sb1_port_powers_on)\n",
    "time.sleep(10)\n",
    "assert (sb1.portsPowerSensed == numpy.array([True, True, False, True, False, False, False, False, False, False, False, False])).all()"
   ]
  },
  {
   "cell_type": "code",
   "execution_count": null,
   "id": "7c747c85-8129-4e3a-98fc-185d5dde332f",
   "metadata": {},
   "outputs": [],
   "source": [
    "# Test setting alarm thresholds\n",
    "initial_humidity_thresholds = fndh.FncbHumidityThresholds\n",
    "current_humidity = fndh.fncbHumidity\n",
    "alarm_value = random.randint(0, current_humidity-2)\n",
    "fndh.FncbHumidityThresholds = [alarm_value, 3, 2, 1]\n",
    "time.sleep(10)\n",
    "assert (fndh.FncbHumidityThresholds == numpy.array([alarm_value, 3, 2, 1])).all()"
   ]
  },
  {
   "cell_type": "code",
   "execution_count": null,
   "id": "b692c3ce-2e26-4b58-9d3e-ffba54d64f63",
   "metadata": {},
   "outputs": [],
   "source": [
    "time.sleep(30)\n",
    "assert fndh.alarmFlags == 'SYS_HUMIDITY'"
   ]
  },
  {
   "cell_type": "code",
   "execution_count": null,
   "id": "6f394026-2e4a-43be-a8f0-f216ff548e02",
   "metadata": {},
   "outputs": [],
   "source": [
    "# Set the thresholds back and reset the alarm\n",
    "fndh.FncbHumidityThresholds = initial_humidity_thresholds\n",
    "time.sleep(5)\n",
    "assert (fndh.FncbHumidityThresholds == numpy.array([initial_humidity_thresholds])).all()"
   ]
  },
  {
   "cell_type": "code",
   "execution_count": null,
   "id": "1f08dcca-27ed-4b8e-80af-27c52fbcf643",
   "metadata": {},
   "outputs": [],
   "source": [
    "pasd.initializeFndh()\n",
    "time.sleep(5)\n",
    "pasd.ResetFndhAlarms()\n",
    "time.sleep(30)\n",
    "assert fndh.alarmFlags == 'NONE'"
   ]
  },
  {
   "cell_type": "code",
   "execution_count": null,
   "id": "d46c800e-0e01-4b8b-a385-46b472f77f79",
   "metadata": {},
   "outputs": [],
   "source": [
    "# Restore initial state and terminate connection\n",
    "sb1_initial_port_powers = json.dumps({\"smartbox_number\": 1, \"port_powers\": sb1_initial_state.tolist(), \"stay_on_when_offline\": False})\n",
    "pasd.setSmartboxPortPowers(sb1_initial_port_powers)\n",
    "time.sleep(5)\n",
    "assert (sb1.portsPowerSensed == sb1_initial_state).all()"
   ]
  },
  {
   "cell_type": "code",
   "execution_count": null,
   "id": "a5170488-6412-4856-a47d-9cd525653062",
   "metadata": {},
   "outputs": [],
   "source": [
    "fndh_initial_port_powers = json.dumps({\"port_powers\": fndh_initial_state.tolist(), \"stay_on_when_offline\": False})\n",
    "pasd.setFndhPortPowers(fndh_initial_port_powers)\n",
    "time.sleep(5)\n",
    "assert (fndh.portsPowerSensed == fndh_initial_state).all()"
   ]
  },
  {
   "cell_type": "code",
   "execution_count": null,
   "id": "4b6aabf1-0774-42d2-a540-bd7106fcb788",
   "metadata": {},
   "outputs": [],
   "source": [
    "pasd.adminMode=1"
   ]
  }
 ],
 "metadata": {
  "kernelspec": {
   "display_name": "jupyTango",
   "language": "python",
   "name": "jupytango"
  },
  "language_info": {
   "codemirror_mode": {
    "name": "ipython",
    "version": 3
   },
   "file_extension": ".py",
   "mimetype": "text/x-python",
   "name": "python",
   "nbconvert_exporter": "python",
   "pygments_lexer": "ipython3",
   "version": "3.10.6"
  }
 },
 "nbformat": 4,
 "nbformat_minor": 5
}
