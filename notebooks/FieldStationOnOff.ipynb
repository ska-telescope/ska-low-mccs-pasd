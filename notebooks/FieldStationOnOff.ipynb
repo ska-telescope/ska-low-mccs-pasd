{
 "cells": [
  {
   "cell_type": "code",
   "execution_count": 1,
   "id": "54dab86e-515f-4d8f-9006-efe52a758b03",
   "metadata": {},
   "outputs": [],
   "source": [
    "import tango"
   ]
  },
  {
   "cell_type": "code",
   "execution_count": 2,
   "id": "288ff305-5898-43ee-bd3c-eb64bda863d6",
   "metadata": {},
   "outputs": [],
   "source": [
    "fs = tango.DeviceProxy(\"low-mccs/fieldstation/ci-1\")\n",
    "fndh = tango.DeviceProxy(\"low-mccs/fndh/ci-1\")\n",
    "sbx_list = [tango.DeviceProxy(f\"low-mccs/smartbox/ci-1-{no:02}\") for no in range(1,9)]\n",
    "pasd = tango.DeviceProxy(\"low-mccs/pasdbus/ci-1\")"
   ]
  },
  {
   "cell_type": "code",
   "execution_count": 4,
   "id": "f6704c36-8874-4f3f-a6ec-cd77ddf53e3f",
   "metadata": {},
   "outputs": [],
   "source": [
    "fs.adminmode = 0\n",
    "fndh.adminmode = 0\n",
    "for sbx in sbx_list:\n",
    "    sbx.adminmode = 0\n",
    "pasd.adminmode = 0\n",
    "fs.logginglevel = 5\n",
    "fndh.logginglevel = 5\n",
    "sbx.logginglevel = 5\n",
    "pasd.logginglevel = 5"
   ]
  },
  {
   "cell_type": "code",
   "execution_count": 8,
   "id": "ab3f9e41-0c0a-4102-b0b3-ac57249a20c1",
   "metadata": {},
   "outputs": [
    {
     "data": {
      "text/plain": [
       "tango._tango.DevState.OFF"
      ]
     },
     "execution_count": 8,
     "metadata": {},
     "output_type": "execute_result"
    }
   ],
   "source": [
    "fs.state()"
   ]
  },
  {
   "cell_type": "code",
   "execution_count": 9,
   "id": "850c4b39-0e0a-4c5e-9ddc-6903911ef29c",
   "metadata": {},
   "outputs": [
    {
     "data": {
      "text/plain": [
       "tango._tango.DevState.OFF"
      ]
     },
     "execution_count": 9,
     "metadata": {},
     "output_type": "execute_result"
    }
   ],
   "source": [
    "sbx.state()"
   ]
  },
  {
   "cell_type": "code",
   "execution_count": 10,
   "id": "bcb0f766-a322-4074-a1a6-a30ac7a2af44",
   "metadata": {},
   "outputs": [
    {
     "data": {
      "text/plain": [
       "tango._tango.DevState.ON"
      ]
     },
     "execution_count": 10,
     "metadata": {},
     "output_type": "execute_result"
    }
   ],
   "source": [
    "fndh.state()"
   ]
  },
  {
   "cell_type": "code",
   "execution_count": 11,
   "id": "3c1c722f-fa0d-456a-9bb2-202b10992179",
   "metadata": {},
   "outputs": [
    {
     "data": {
      "text/plain": [
       "[array([2], dtype=int32),\n",
       " ['1698061592.3585637_220902607298841_UpdateConfiguration']]"
      ]
     },
     "execution_count": 11,
     "metadata": {},
     "output_type": "execute_result"
    }
   ],
   "source": [
    "fs.UpdateConfiguration()"
   ]
  },
  {
   "cell_type": "code",
   "execution_count": 12,
   "id": "7a546044-da76-42a1-82ee-315201146ffd",
   "metadata": {},
   "outputs": [
    {
     "name": "stdout",
     "output_type": "stream",
     "text": [
      "fs.antennamapping='{\"1\": [1, 1], \"2\": [1, 2], \"3\": [1, 3], \"4\": [1, 4], \"5\": [1, 5], \"6\": [1, 6], \"7\": [1, 7], \"8\": [1, 8], \"9\": [1, 9], \"10\": [1, 10], \"11\": [1, 11], \"12\": [1, 12], \"13\": [2, 1], \"14\": [2, 2], \"15\": [2, 3], \"16\": [2, 4], \"17\": [2, 5], \"18\": [2, 6], \"19\": [2, 7], \"20\": [2, 8], \"21\": [2, 9], \"22\": [2, 10], \"23\": [2, 11], \"24\": [2, 12], \"25\": [3, 1], \"26\": [3, 2], \"27\": [3, 3], \"28\": [3, 4], \"29\": [3, 5], \"30\": [3, 6], \"31\": [3, 7], \"32\": [3, 8], \"33\": [3, 9], \"34\": [3, 10], \"35\": [3, 11], \"36\": [3, 12], \"37\": [4, 1], \"38\": [4, 2], \"39\": [4, 3], \"40\": [4, 4], \"41\": [4, 5], \"42\": [4, 6], \"43\": [4, 7], \"44\": [4, 8], \"45\": [4, 9], \"46\": [4, 10], \"47\": [4, 11], \"48\": [4, 12], \"49\": [5, 1], \"50\": [5, 2], \"51\": [5, 3], \"52\": [5, 4], \"53\": [5, 5], \"54\": [5, 6], \"55\": [5, 7], \"56\": [5, 8], \"57\": [5, 9], \"58\": [5, 10], \"59\": [5, 11], \"60\": [5, 12], \"61\": [6, 1], \"62\": [6, 2], \"63\": [6, 3], \"64\": [6, 4], \"65\": [6, 5], \"66\": [6, 6], \"67\": [6, 7], \"68\": [6, 8], \"69\": [6, 9], \"70\": [6, 10], \"71\": [6, 11], \"72\": [6, 12], \"73\": [7, 1], \"74\": [7, 2], \"75\": [7, 3], \"76\": [7, 4], \"77\": [7, 5], \"78\": [7, 6], \"79\": [7, 7], \"80\": [7, 8], \"81\": [7, 9], \"82\": [7, 10], \"83\": [7, 11], \"84\": [7, 12], \"85\": [8, 1], \"86\": [8, 2], \"87\": [8, 3], \"88\": [8, 4], \"89\": [8, 5], \"90\": [8, 6], \"91\": [8, 7], \"92\": [8, 8], \"93\": [8, 9], \"94\": [8, 10], \"95\": [8, 11], \"96\": [8, 12], \"97\": [9, 1], \"98\": [9, 2], \"99\": [9, 3], \"100\": [9, 4], \"101\": [9, 5], \"102\": [9, 6], \"103\": [9, 7], \"104\": [9, 8], \"105\": [9, 9], \"106\": [9, 10], \"107\": [9, 11], \"108\": [9, 12], \"109\": [10, 1], \"110\": [10, 2], \"111\": [10, 3], \"112\": [10, 4], \"113\": [10, 5], \"114\": [10, 6], \"115\": [10, 7], \"116\": [10, 8], \"117\": [10, 9], \"118\": [10, 10], \"119\": [10, 11], \"120\": [10, 12], \"121\": [11, 1], \"122\": [11, 2], \"123\": [11, 3], \"124\": [11, 4], \"125\": [11, 5], \"126\": [11, 6], \"127\": [11, 7], \"128\": [11, 8], \"129\": [11, 9], \"130\": [11, 10], \"131\": [11, 11], \"132\": [11, 12], \"133\": [12, 1], \"134\": [12, 2], \"135\": [12, 3], \"136\": [12, 4], \"137\": [12, 5], \"138\": [12, 6], \"139\": [12, 7], \"140\": [12, 8], \"141\": [12, 9], \"142\": [12, 10], \"143\": [12, 11], \"144\": [12, 12], \"145\": [13, 1], \"146\": [13, 2], \"147\": [13, 3], \"148\": [13, 4], \"149\": [13, 5], \"150\": [13, 6], \"151\": [13, 7], \"152\": [13, 8], \"153\": [13, 9], \"154\": [13, 10], \"155\": [13, 11], \"156\": [13, 12], \"157\": [14, 1], \"158\": [14, 2], \"159\": [14, 3], \"160\": [14, 4], \"161\": [14, 5], \"162\": [14, 6], \"163\": [14, 7], \"164\": [14, 8], \"165\": [14, 9], \"166\": [14, 10], \"167\": [14, 11], \"168\": [14, 12], \"169\": [15, 1], \"170\": [15, 2], \"171\": [15, 3], \"172\": [15, 4], \"173\": [15, 5], \"174\": [15, 6], \"175\": [15, 7], \"176\": [15, 8], \"177\": [15, 9], \"178\": [15, 10], \"179\": [15, 11], \"180\": [15, 12], \"181\": [16, 1], \"182\": [16, 2], \"183\": [16, 3], \"184\": [16, 4], \"185\": [16, 5], \"186\": [16, 6], \"187\": [16, 7], \"188\": [16, 8], \"189\": [16, 9], \"190\": [16, 10], \"191\": [16, 11], \"192\": [16, 12], \"193\": [17, 1], \"194\": [17, 2], \"195\": [17, 3], \"196\": [17, 4], \"197\": [17, 5], \"198\": [17, 6], \"199\": [17, 7], \"200\": [17, 8], \"201\": [17, 9], \"202\": [17, 10], \"203\": [17, 11], \"204\": [17, 12], \"205\": [18, 1], \"206\": [18, 2], \"207\": [18, 3], \"208\": [18, 4], \"209\": [18, 5], \"210\": [18, 6], \"211\": [18, 7], \"212\": [18, 8], \"213\": [18, 9], \"214\": [18, 10], \"215\": [18, 11], \"216\": [18, 12], \"217\": [19, 1], \"218\": [19, 2], \"219\": [19, 3], \"220\": [19, 4], \"221\": [19, 5], \"222\": [19, 6], \"223\": [19, 7], \"224\": [19, 8], \"225\": [19, 9], \"226\": [19, 10], \"227\": [19, 11], \"228\": [19, 12], \"229\": [20, 1], \"230\": [20, 2], \"231\": [20, 3], \"232\": [20, 4], \"233\": [20, 5], \"234\": [20, 6], \"235\": [20, 7], \"236\": [20, 8], \"237\": [20, 9], \"238\": [20, 10], \"239\": [20, 11], \"240\": [20, 12], \"241\": [21, 1], \"242\": [21, 2], \"243\": [21, 3], \"244\": [21, 4], \"245\": [21, 5], \"246\": [21, 6], \"247\": [21, 7], \"248\": [21, 8], \"249\": [21, 9], \"250\": [21, 10], \"251\": [21, 11], \"252\": [21, 12], \"253\": [22, 1], \"254\": [22, 2], \"255\": [22, 3], \"256\": [22, 4]}'\n",
      "fs.smartboxmapping='{\"1\": 2, \"2\": 1, \"3\": 3, \"4\": 4, \"5\": 5, \"6\": 6, \"7\": 7, \"8\": 8, \"9\": 9, \"10\": 10, \"11\": 11, \"12\": 12, \"13\": 13, \"14\": 14, \"15\": 15, \"16\": 16, \"17\": 17, \"18\": 18, \"19\": 19, \"20\": 20, \"21\": 21, \"22\": 22, \"23\": 23, \"24\": 24}'\n",
      "fs.antennamask=array([False,  True,  True,  True,  True,  True,  True,  True,  True,\n",
      "        True,  True,  True,  True, False, False, False, False, False,\n",
      "       False, False, False, False, False, False, False, False, False,\n",
      "       False, False, False, False, False, False, False, False, False,\n",
      "       False, False, False, False, False, False, False, False, False,\n",
      "       False, False, False, False, False, False, False, False, False,\n",
      "       False, False, False, False, False, False, False, False, False,\n",
      "       False, False, False, False, False, False, False, False, False,\n",
      "       False, False, False, False, False, False, False, False, False,\n",
      "       False, False, False, False, False, False, False, False, False,\n",
      "        True, False, False, False, False, False, False, False, False,\n",
      "       False, False, False, False, False, False, False, False, False,\n",
      "       False, False, False, False, False, False, False, False, False,\n",
      "       False, False, False, False, False, False, False, False, False,\n",
      "       False, False, False, False, False, False, False, False, False,\n",
      "       False, False, False, False, False, False, False, False, False,\n",
      "       False, False, False, False, False, False, False, False, False,\n",
      "       False, False, False, False, False, False, False, False, False,\n",
      "       False, False, False, False, False, False, False, False, False,\n",
      "       False, False, False, False, False, False, False, False, False,\n",
      "       False, False, False, False, False, False, False, False, False,\n",
      "       False, False, False, False, False, False, False, False, False,\n",
      "       False, False, False, False, False, False, False, False, False,\n",
      "       False, False, False, False, False, False, False, False, False,\n",
      "       False, False, False, False, False, False, False, False, False,\n",
      "       False, False, False, False, False, False, False, False, False,\n",
      "       False, False, False, False, False, False, False, False, False,\n",
      "       False, False, False, False, False, False, False, False, False,\n",
      "       False, False, False, False, False])\n"
     ]
    }
   ],
   "source": [
    "print(f\"{fs.antennamapping=}\")\n",
    "print(f\"{fs.smartboxmapping=}\")\n",
    "print(f\"{fs.antennamask=}\")"
   ]
  },
  {
   "cell_type": "code",
   "execution_count": 156,
   "id": "412f64b8-efc3-4b68-8971-0971921c987a",
   "metadata": {},
   "outputs": [
    {
     "data": {
      "text/plain": [
       "[array([2], dtype=int32),\n",
       " ['1697795475.9501941_7579948510196_UpdateAntennaMask']]"
      ]
     },
     "execution_count": 156,
     "metadata": {},
     "output_type": "execute_result"
    }
   ],
   "source": [
    "# import json\n",
    "# antenna_mask = [{} for _ in range(256)]\n",
    "# for antenna_no in range(256):\n",
    "#     antenna_mask[antenna_no][\"antennaID\"] = antenna_no + 1\n",
    "#     antenna_mask[antenna_no][\"maskingState\"] = False\n",
    "# for antenna_no in range(12):\n",
    "#     antenna_mask[antenna_no][\"maskingState\"] = True\n",
    "# antenna_mask[94][\"maskingState\"] = True\n",
    "# antenna_mask_arg = {\"antennaMask\" : antenna_mask}\n",
    "# # print(antenna_mask_arg)\n",
    "# # print(type(json.dumps(antenna_mask_arg)))\n",
    "# fs.UpdateAntennaMask(json.dumps(antenna_mask_arg))\n"
   ]
  },
  {
   "cell_type": "markdown",
   "id": "a6dacad2-acf0-4df3-9423-1587ac260ac8",
   "metadata": {},
   "source": [
    "This will take a while to take effect, depending on polling rate."
   ]
  },
  {
   "cell_type": "code",
   "execution_count": 13,
   "id": "3060e2c5-85ca-479a-a5ca-10ace586be3c",
   "metadata": {},
   "outputs": [
    {
     "name": "stdout",
     "output_type": "stream",
     "text": [
      "[False False False False False False False False False False False False]\n",
      "[False False False False False False False False False False False False]\n",
      "[False False False False False False False False False False False False]\n",
      "[False False False False False False False False False False False False]\n",
      "[False False False False False False False False False False False False]\n",
      "[False False False False False False False False False False False False]\n",
      "[False False False False False False False False False False False False]\n",
      "[False False False False False False False False False False False False]\n"
     ]
    },
    {
     "data": {
      "text/plain": [
       "array([False, False, False, False, False, False, False, False, False,\n",
       "       False, False, False, False, False, False, False, False, False,\n",
       "       False, False, False, False, False, False, False, False, False,\n",
       "       False])"
      ]
     },
     "execution_count": 13,
     "metadata": {},
     "output_type": "execute_result"
    }
   ],
   "source": [
    "for sbx in sbx_list:\n",
    "    print(sbx.PortsPowerSensed)\n",
    "fndh.portspowersensed"
   ]
  },
  {
   "cell_type": "code",
   "execution_count": 14,
   "id": "5914e6eb-7a18-47e7-a70f-f76e11216628",
   "metadata": {},
   "outputs": [
    {
     "data": {
      "text/plain": [
       "[array([2], dtype=int32), ['1698061607.3446136_131449188772439_On']]"
      ]
     },
     "execution_count": 14,
     "metadata": {},
     "output_type": "execute_result"
    }
   ],
   "source": [
    "fs.On()"
   ]
  },
  {
   "cell_type": "code",
   "execution_count": 20,
   "id": "2edea744-ca6e-4738-bcac-c0f5b6cb81b5",
   "metadata": {},
   "outputs": [
    {
     "name": "stdout",
     "output_type": "stream",
     "text": [
      "[False False False False False False False False False False False False]\n",
      "[ True  True  True  True  True  True  True  True  True  True  True  True]\n",
      "[ True  True  True  True  True  True  True  True  True  True  True  True]\n",
      "[ True  True  True  True  True  True  True  True  True  True  True  True]\n",
      "[ True  True  True  True  True  True  True  True  True  True  True  True]\n",
      "[ True  True  True  True  True  True  True  True  True  True  True  True]\n",
      "[ True  True  True  True  True  True  True  True  True  True  True  True]\n",
      "[ True  True  True  True  True False  True  True  True  True  True  True]\n"
     ]
    },
    {
     "data": {
      "text/plain": [
       "array([ True, False,  True,  True,  True,  True,  True,  True,  True,\n",
       "        True,  True,  True,  True,  True,  True,  True,  True,  True,\n",
       "        True,  True,  True,  True,  True,  True,  True,  True,  True,\n",
       "        True])"
      ]
     },
     "execution_count": 20,
     "metadata": {},
     "output_type": "execute_result"
    }
   ],
   "source": [
    "for sbx in sbx_list:\n",
    "    print(sbx.PortsPowerSensed)\n",
    "fndh.portspowersensed"
   ]
  },
  {
   "cell_type": "code",
   "execution_count": 21,
   "id": "d165e8c2-92bc-4f8e-b314-3fe9dadd5fd5",
   "metadata": {},
   "outputs": [
    {
     "data": {
      "text/plain": [
       "[array([2], dtype=int32), ['1698061708.661971_199834080196573_Off']]"
      ]
     },
     "execution_count": 21,
     "metadata": {},
     "output_type": "execute_result"
    }
   ],
   "source": [
    "fs.off()"
   ]
  },
  {
   "cell_type": "code",
   "execution_count": 29,
   "id": "7ee1715b-33c7-4853-91d4-4dff52d1fc65",
   "metadata": {},
   "outputs": [
    {
     "name": "stdout",
     "output_type": "stream",
     "text": [
      "[False False False False False False False False False False False False]\n",
      "[False False False False False False False False False False False False]\n",
      "[False False False False False False False False False False False False]\n",
      "[False False False False False False False False False False False False]\n",
      "[False False False False False False False False False False False False]\n",
      "[False False False False False False False False False False False False]\n",
      "[False False False False False False False False False False False False]\n",
      "[False False False False False False False False False False False False]\n"
     ]
    },
    {
     "data": {
      "text/plain": [
       "array([False, False, False, False, False, False, False, False, False,\n",
       "       False, False, False, False, False, False, False, False, False,\n",
       "       False, False, False, False, False, False, False, False, False,\n",
       "       False])"
      ]
     },
     "execution_count": 29,
     "metadata": {},
     "output_type": "execute_result"
    }
   ],
   "source": [
    "for sbx in sbx_list:\n",
    "    print(sbx.PortsPowerSensed)\n",
    "fndh.portspowersensed"
   ]
  },
  {
   "cell_type": "code",
   "execution_count": null,
   "id": "c7f80080-dd22-424d-83a5-6dc6e1c6aec3",
   "metadata": {},
   "outputs": [],
   "source": []
  }
 ],
 "metadata": {
  "kernelspec": {
   "display_name": "jupyTango",
   "language": "python",
   "name": "jupytango"
  },
  "language_info": {
   "codemirror_mode": {
    "name": "ipython",
    "version": 3
   },
   "file_extension": ".py",
   "mimetype": "text/x-python",
   "name": "python",
   "nbconvert_exporter": "python",
   "pygments_lexer": "ipython3",
   "version": "3.10.6"
  }
 },
 "nbformat": 4,
 "nbformat_minor": 5
}
